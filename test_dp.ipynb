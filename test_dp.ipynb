{
 "cells": [
  {
   "cell_type": "code",
   "execution_count": 1,
   "metadata": {},
   "outputs": [],
   "source": [
    "import numpy as np\n",
    "import matplotlib.pyplot as plt\n",
    "from tqdm import tqdm\n",
    "import sys"
   ]
  },
  {
   "cell_type": "code",
   "execution_count": 2,
   "metadata": {},
   "outputs": [],
   "source": [
    "## data generation\n",
    "\n",
    "def gen_data(len_list, trend_list, coeff_list, x0=0.0, noise_level=0.0):\n",
    "    n = sum(len_list)\n",
    "    n_r = len(len_list)\n",
    "    t = np.arange(n)\n",
    "    x = np.zeros(n)\n",
    "    \n",
    "    t_before = 0\n",
    "    x_before = x0\n",
    "    for i in range(n_r):   \n",
    "        t_next = t_before + len_list[i]\n",
    "        t_range = np.arange(len_list[i])\n",
    "        if(trend_list[i]==\"linear\"):\n",
    "            x_range = x_before + coeff_list[i]*t_range\n",
    "        elif(trend_list[i]==\"exp\"):\n",
    "            x_range = x_before*np.exp(coeff_list[i]*t_range)\n",
    "        else:\n",
    "            raise(\"Unknown trend name!\")\n",
    "        x[t_before:t_next] = x_range\n",
    "        \n",
    "        t_before = t_next\n",
    "        x_before = x_range[-1]\n",
    "    \n",
    "    x_noise = np.random.uniform(-1,1, size=n)*noise_level\n",
    "        \n",
    "    return t, x+x_noise"
   ]
  },
  {
   "cell_type": "code",
   "execution_count": 3,
   "metadata": {},
   "outputs": [
    {
     "name": "stdout",
     "output_type": "stream",
     "text": [
      "x_min =  6.499125691306981e-05\n"
     ]
    }
   ],
   "source": [
    "a_len = np.array([20,15,20,25,40,10])\n",
    "a_trend = [\"linear\", \"exp\", \"exp\", \"linear\", \"exp\", \"linear\"]\n",
    "a_coeff = np.array([2e0, -2e-1, 2e-1, 5e-1, -4e-1, 3e0])\n",
    "\n",
    "t, x = gen_data(a_len, a_trend, a_coeff, 100, 0.0)\n",
    "print(\"x_min = \", np.min(x))"
   ]
  },
  {
   "cell_type": "code",
   "execution_count": 4,
   "metadata": {},
   "outputs": [
    {
     "data": {
      "text/plain": [
       "<matplotlib.collections.PathCollection at 0x7efcde786438>"
      ]
     },
     "execution_count": 4,
     "metadata": {},
     "output_type": "execute_result"
    },
    {
     "data": {
      "image/png": "[encoded data removed]",
      "text/plain": [
       "<Figure size 432x288 with 1 Axes>"
      ]
     },
     "metadata": {
      "needs_background": "light"
     },
     "output_type": "display_data"
    }
   ],
   "source": [
    "plt.scatter(t, x)"
   ]
  },
  {
   "cell_type": "code",
   "execution_count": 6,
   "metadata": {},
   "outputs": [],
   "source": [
    "## dp algorithm\n",
    "def dp_segment(t, x, n_range, fit_range_call, min_len=8, trends = [\"linear\", \"exp\"]):\n",
    "    ## t, x; input data\n",
    "    ## n_range: number of ranges to get, number of changes is n_range-1\n",
    "    ## fit_range_call: a callable funciton which does regression for a bunch of increasing models\n",
    "    ## min_len: minimum length of range. set this since we cannot run regression on 1 data point\n",
    "    ## trends: the name of increasing models to consider. All the names here should be supported \n",
    "    ##   by the user defined fit_range_call()\n",
    "    \n",
    "    n = len(t)\n",
    "    rec = {}\n",
    "    \n",
    "    ## init\n",
    "    #print(\"DP init...\")\n",
    "    for i in range(min_len-1, n):\n",
    "        tmp = (np.inf, None, None)\n",
    "        for trend in trends:\n",
    "            fit_res = fit_range_call(t[0:i], x[0:i], trend)\n",
    "            if(fit_res[\"cost\"]<tmp[0]):\n",
    "                tmp = (fit_res[\"cost\"], fit_res, -1)\n",
    "        rec[(1, i)] = tmp\n",
    "    \n",
    "    ## dp\n",
    "    \n",
    "    #number of ranges\n",
    "    for i in tqdm(range(2, n_range+1), desc=\"DP\", file=sys.stdout):\n",
    "        #end point\n",
    "        for j in range(min_len*i-1, n):\n",
    "            \n",
    "            tmp = (np.inf, None, None)\n",
    "            \n",
    "            #segment point\n",
    "            for k in range(min_len*(i-1)-1, j-min_len+1):\n",
    "                for trend in trends:\n",
    "                    fit_res = fit_range_call(t[k+1:j+1], x[k+1:j+1], trend)\n",
    "                    cost_combine = rec[(i-1, k)][0] + fit_res[\"cost\"]\n",
    "                    if(cost_combine < tmp[0]):\n",
    "                        tmp = (cost_combine, fit_res, k)\n",
    "                    \n",
    "                    #print(i, j, k, fit_res, rec[(i-1, k)][0])\n",
    "                        \n",
    "            rec[(i, j)] = tmp\n",
    "    \n",
    "    #traceback\n",
    "    p = n-1\n",
    "    i = n_range\n",
    "    res = []\n",
    "    for i in range(n_range, 0, -1):\n",
    "        tmp = rec[(i, p)]\n",
    "        \n",
    "        entry = {}\n",
    "        entry[\"trend\"] = tmp[1][\"trend\"]\n",
    "        entry[\"coeff\"] = tmp[1][\"coeff\"]\n",
    "        entry[\"i_start\"] = tmp[2]+1\n",
    "        entry[\"i_end\"] = p\n",
    "        res = [entry]+res\n",
    "        \n",
    "        p = tmp[2]\n",
    "        #i-=1\n",
    "    \n",
    "    return res, rec[(n_range, n-1)][0]\n",
    "            "
   ]
  },
  {
   "cell_type": "code",
   "execution_count": 7,
   "metadata": {},
   "outputs": [],
   "source": [
    "def fit_range(t, x, trend):\n",
    "    res = {}\n",
    "    \n",
    "    if(trend==\"linear\"):\n",
    "        tmp = np.polyfit(t, x, 1, full=True)\n",
    "        res[\"cost\"] = tmp[1][0]\n",
    "        res[\"trend\"] = trend\n",
    "        res[\"coeff\"] = tmp[0]\n",
    "        \n",
    "    elif(trend==\"exp\"):\n",
    "        log_x = np.log(x)\n",
    "        tmp = np.polyfit(t, log_x, 1)\n",
    "        x_pred = np.exp(tmp[0]*t+tmp[1])\n",
    "        \n",
    "        res[\"cost\"] = np.sum((x_pred - x)**2)\n",
    "        res[\"trend\"] = trend\n",
    "        res[\"coeff\"] = tmp\n",
    "    else:\n",
    "        raise(\"Unknown trend name!\")\n",
    "    \n",
    "    return res"
   ]
  },
  {
   "cell_type": "code",
   "execution_count": 9,
   "metadata": {},
   "outputs": [],
   "source": [
    "def gen_model_curve(t, x, seg_list):\n",
    "    n = len(t)\n",
    "    x1 = np.zeros(n)\n",
    "    \n",
    "    for entry in seg_list:\n",
    "        t_range = t[entry[\"i_start\"]:entry[\"i_end\"]+1]\n",
    "        if(entry[\"trend\"]==\"linear\"):\n",
    "            coeff = entry[\"coeff\"]\n",
    "            x_range = coeff[0]*t_range + coeff[1]\n",
    "            x1[entry[\"i_start\"]:entry[\"i_end\"]+1] = x_range\n",
    "        elif(entry[\"trend\"]==\"exp\"):\n",
    "            coeff = entry[\"coeff\"]\n",
    "            x_range = coeff[0]*t_range + coeff[1]\n",
    "            x1[entry[\"i_start\"]:entry[\"i_end\"]+1] = np.exp(x_range)\n",
    "    return x1"
   ]
  },
  {
   "cell_type": "code",
   "execution_count": 8,
   "metadata": {},
   "outputs": [
    {
     "name": "stdout",
     "output_type": "stream",
     "text": [
      "DP: 100%|██████████| 5/5 [00:09<00:00,  1.87s/it]\n"
     ]
    }
   ],
   "source": [
    "seg_res, seg_cost = dp_segment(t, x, 6, fit_range)"
   ]
  },
  {
   "cell_type": "code",
   "execution_count": 10,
   "metadata": {},
   "outputs": [
    {
     "name": "stdout",
     "output_type": "stream",
     "text": [
      "cost =  1.1152022301494298e-22\n",
      "{'trend': 'linear', 'coeff': array([  2., 100.]), 'i_start': 0, 'i_end': 19}\n",
      "{'trend': 'exp', 'coeff': array([-0.2       ,  8.92725369]), 'i_start': 20, 'i_end': 34}\n",
      "{'trend': 'exp', 'coeff': array([ 0.2       , -4.87274631]), 'i_start': 35, 'i_end': 54}\n",
      "{'trend': 'linear', 'coeff': array([  0.5       , 347.62289233]), 'i_start': 55, 'i_end': 79}\n",
      "{'trend': 'exp', 'coeff': array([-0.4       , 37.95874219]), 'i_start': 80, 'i_end': 119}\n",
      "{'trend': 'linear', 'coeff': array([   3.        , -359.99993501]), 'i_start': 120, 'i_end': 129}\n"
     ]
    }
   ],
   "source": [
    "print(\"cost = \", seg_cost)\n",
    "for entry in seg_res:\n",
    "    print(entry)"
   ]
  },
  {
   "cell_type": "code",
   "execution_count": 13,
   "metadata": {},
   "outputs": [
    {
     "data": {
      "image/png": "[encoded data removed]",
      "text/plain": [
       "<Figure size 432x288 with 1 Axes>"
      ]
     },
     "metadata": {
      "needs_background": "light"
     },
     "output_type": "display_data"
    }
   ],
   "source": [
    "x_fit = gen_model_curve(t, x, seg_res)\n",
    "\n",
    "plt.scatter(t, x)\n",
    "plt.plot(t,x)\n",
    "plt.show()"
   ]
  },
  {
   "cell_type": "code",
   "execution_count": 12,
   "metadata": {},
   "outputs": [
    {
     "name": "stdout",
     "output_type": "stream",
     "text": [
      "DP: 0it [00:00, ?it/s]\n",
      "1 2611651.801319549\n",
      "DP: 100%|██████████| 1/1 [00:02<00:00,  2.53s/it]\n",
      "2 764059.8686700467\n",
      "DP: 100%|██████████| 2/2 [00:04<00:00,  2.37s/it]\n",
      "3 161305.80771480108\n",
      "DP: 100%|██████████| 3/3 [00:06<00:00,  2.23s/it]\n",
      "4 82839.46718308778\n",
      "DP: 100%|██████████| 4/4 [00:08<00:00,  2.11s/it]\n",
      "5 28065.287571881112\n",
      "DP: 100%|██████████| 5/5 [00:09<00:00,  1.87s/it]\n",
      "6 1.1152022301494298e-22\n",
      "DP: 100%|██████████| 6/6 [00:10<00:00,  1.77s/it]\n",
      "7 2.2941378169708355e-24\n",
      "DP: 100%|██████████| 7/7 [00:11<00:00,  1.60s/it]\n",
      "8 1.3401557025125824e-24\n",
      "DP: 100%|██████████| 8/8 [00:11<00:00,  1.48s/it]\n",
      "9 1.3401524217944347e-24\n",
      "DP: 100%|██████████| 9/9 [00:12<00:00,  1.42s/it]\n",
      "10 1.3405489923462927e-24\n"
     ]
    }
   ],
   "source": [
    "k_list = []\n",
    "cost_list = []\n",
    "\n",
    "for k in range(1,11):\n",
    "    seg_res, seg_cost = dp_segment(t, x, k, fit_range)\n",
    "    print(k, seg_cost)\n",
    "    k_list.append(k)\n",
    "    cost_list.append(seg_cost)"
   ]
  },
  {
   "cell_type": "code",
   "execution_count": 13,
   "metadata": {},
   "outputs": [
    {
     "data": {
      "text/plain": [
       "Text(0, 0.5, 'cost')"
      ]
     },
     "execution_count": 13,
     "metadata": {},
     "output_type": "execute_result"
    },
    {
     "data": {
      "image/png": "[encoded data removed]",
      "text/plain": [
       "<Figure size 432x288 with 1 Axes>"
      ]
     },
     "metadata": {
      "needs_background": "light"
     },
     "output_type": "display_data"
    }
   ],
   "source": [
    "plt.scatter(k_list, cost_list)\n",
    "plt.xlabel(\"n_range\")\n",
    "plt.ylabel(\"cost\")"
   ]
  },
  {
   "cell_type": "code",
   "execution_count": 14,
   "metadata": {},
   "outputs": [
    {
     "name": "stdout",
     "output_type": "stream",
     "text": [
      "x_min =  1.0\n"
     ]
    }
   ],
   "source": [
    "## noise robust\n",
    "a_len = np.array([20,15,20,25,40,10])\n",
    "a_trend = [\"linear\", \"exp\", \"exp\", \"linear\", \"exp\", \"linear\"]\n",
    "a_coeff = np.array([2e0, -2e-1, 2e-1, 5e-1, -4e-1, 3e0])\n",
    "\n",
    "t, x = gen_data(a_len, a_trend, a_coeff, 100, 10)\n",
    "x -= (np.min(x)-1)\n",
    "print(\"x_min = \", np.min(x))"
   ]
  },
  {
   "cell_type": "code",
   "execution_count": 15,
   "metadata": {},
   "outputs": [
    {
     "data": {
      "text/plain": [
       "<matplotlib.collections.PathCollection at 0x7efcdddc5048>"
      ]
     },
     "execution_count": 15,
     "metadata": {},
     "output_type": "execute_result"
    },
    {
     "data": {
      "image/png": "[encoded data removed]",
      "text/plain": [
       "<Figure size 432x288 with 1 Axes>"
      ]
     },
     "metadata": {
      "needs_background": "light"
     },
     "output_type": "display_data"
    }
   ],
   "source": [
    "plt.scatter(t, x)"
   ]
  },
  {
   "cell_type": "code",
   "execution_count": 16,
   "metadata": {},
   "outputs": [
    {
     "name": "stdout",
     "output_type": "stream",
     "text": [
      "DP: 100%|██████████| 5/5 [00:09<00:00,  1.82s/it]\n"
     ]
    }
   ],
   "source": [
    "seg_res, seg_cost = dp_segment(t, x, 6, fit_range)"
   ]
  },
  {
   "cell_type": "code",
   "execution_count": 17,
   "metadata": {},
   "outputs": [
    {
     "name": "stdout",
     "output_type": "stream",
     "text": [
      "cost =  6574.018909043349\n",
      "{'trend': 'linear', 'coeff': array([  1.64598607, 114.07591694]), 'i_start': 0, 'i_end': 21}\n",
      "{'trend': 'exp', 'coeff': array([-0.11419395,  6.93130133]), 'i_start': 22, 'i_end': 35}\n",
      "{'trend': 'exp', 'coeff': array([ 0.16867888, -3.21917512]), 'i_start': 36, 'i_end': 53}\n",
      "{'trend': 'linear', 'coeff': array([  0.51186696, 358.3962217 ]), 'i_start': 54, 'i_end': 80}\n",
      "{'trend': 'exp', 'coeff': array([-0.33221759, 32.45205917]), 'i_start': 81, 'i_end': 90}\n",
      "{'trend': 'linear', 'coeff': array([  0.43650536, -32.37205533]), 'i_start': 91, 'i_end': 129}\n"
     ]
    }
   ],
   "source": [
    "print(\"cost = \", seg_cost)\n",
    "for entry in seg_res:\n",
    "    print(entry)"
   ]
  },
  {
   "cell_type": "code",
   "execution_count": 18,
   "metadata": {},
   "outputs": [
    {
     "data": {
      "image/png": "[encoded data removed]",
      "text/plain": [
       "<Figure size 432x288 with 1 Axes>"
      ]
     },
     "metadata": {
      "needs_background": "light"
     },
     "output_type": "display_data"
    }
   ],
   "source": [
    "x_fit = gen_model_curve(t, x, seg_res)\n",
    "\n",
    "plt.scatter(t, x)\n",
    "plt.plot(t,x)\n",
    "plt.show()"
   ]
  },
  {
   "cell_type": "code",
   "execution_count": null,
   "metadata": {},
   "outputs": [],
   "source": []
  }
 ],
 "metadata": {
  "kernelspec": {
   "display_name": "Python 3",
   "language": "python",
   "name": "python3"
  },
  "language_info": {
   "codemirror_mode": {
    "name": "ipython",
    "version": 3
   },
   "file_extension": ".py",
   "mimetype": "text/x-python",
   "name": "python",
   "nbconvert_exporter": "python",
   "pygments_lexer": "ipython3",
   "version": "3.6.10"
  }
 },
 "nbformat": 4,
 "nbformat_minor": 4
}
